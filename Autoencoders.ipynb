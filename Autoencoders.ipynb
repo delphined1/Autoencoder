{
  "nbformat": 4,
  "nbformat_minor": 0,
  "metadata": {
    "colab": {
      "provenance": [],
      "collapsed_sections": [
        "4kNFNEZrAF2E",
        "6_32ZHfkApec",
        "YxxfzIZv8gF5",
        "ii8wZjME8lfb",
        "1V3vNaI29BuN",
        "FgnMrLyU9DY-"
      ]
    },
    "kernelspec": {
      "name": "python3",
      "display_name": "Python 3"
    },
    "language_info": {
      "name": "python"
    },
    "accelerator": "GPU",
    "gpuClass": "standard"
  },
  "cells": [
    {
      "cell_type": "markdown",
      "source": [
        "#First version of Convolutional AutoEncoder"
      ],
      "metadata": {
        "id": "4kNFNEZrAF2E"
      }
    },
    {
      "cell_type": "markdown",
      "source": [
        "## ReadMe"
      ],
      "metadata": {
        "id": "6_32ZHfkApec"
      }
    },
    {
      "cell_type": "markdown",
      "source": [
        "  - Computing modalities\n",
        "  - Brief description of the goal of the NN\n",
        "  - Calcul of loss ratio\n",
        "  - Obtained results"
      ],
      "metadata": {
        "id": "gPmAWWbzArqS"
      }
    },
    {
      "cell_type": "markdown",
      "source": [
        "##Data"
      ],
      "metadata": {
        "id": "YxxfzIZv8gF5"
      }
    },
    {
      "cell_type": "code",
      "execution_count": 1,
      "metadata": {
        "id": "Okm4IcLi8GXV"
      },
      "outputs": [],
      "source": [
        "import torch"
      ]
    },
    {
      "cell_type": "code",
      "source": [
        "#Import MNIST of handwritten digits dataset\n",
        "import torchvision.datasets as datasets \n",
        "import torchvision.transforms as transforms\n",
        "from torch.utils.data import DataLoader"
      ],
      "metadata": {
        "id": "bNwoQrDB8hhf"
      },
      "execution_count": 2,
      "outputs": []
    },
    {
      "cell_type": "code",
      "source": [
        "#Loading the data\n",
        "transform = transforms.Compose([transforms.CenterCrop(28),\n",
        "                                transforms.ToTensor(),\n",
        "                                transforms.Normalize(mean=0.5, std=0.5)\n",
        "                                ])\n",
        "\n",
        "#Train dataset\n",
        "mnist_trainset = datasets.MNIST(root='./data', train=True, download=True, transform=transform)\n",
        "#Dataloader used to shuffle and create batch\n",
        "train_loader   = torch.utils.data.DataLoader(mnist_trainset, batch_size=256, shuffle=True)\n",
        "#Test dataset\n",
        "mnist_testset = datasets.MNIST(root='./data', train=False, download=True, transform=transform)\n",
        "test_loader   = torch.utils.data.DataLoader(mnist_testset, batch_size=256, shuffle=True)"
      ],
      "metadata": {
        "id": "i8l9iAH29jJf"
      },
      "execution_count": 3,
      "outputs": []
    },
    {
      "cell_type": "code",
      "source": [
        "def print_data_info(train_loader, test_loader):\n",
        "    \"\"\"\n",
        "        Function to check on data\n",
        "    \"\"\"\n",
        "    \n",
        "    print(\"Nof train samples: \", len(train_loader.dataset))\n",
        "    print(\"- samples' size: \", train_loader.dataset[0][0].shape)\n",
        "    print(\"- batch size: \", train_loader.batch_size)\n",
        "    print(\"\\n\")\n",
        "    print(\"Nof test samples: \", len(test_loader.dataset))\n",
        "    print(\"- samples' size: \", test_loader.dataset[0][0].shape)\n",
        "    print(\"- batch size: \", test_loader.batch_size)"
      ],
      "metadata": {
        "id": "hRwQRln1j9IK"
      },
      "execution_count": 4,
      "outputs": []
    },
    {
      "cell_type": "markdown",
      "source": [
        "##Model"
      ],
      "metadata": {
        "id": "ii8wZjME8lfb"
      }
    },
    {
      "cell_type": "code",
      "source": [
        "import torch.nn as nn"
      ],
      "metadata": {
        "id": "COg4HNVe9hwc"
      },
      "execution_count": 17,
      "outputs": []
    },
    {
      "cell_type": "code",
      "source": [
        "class AutoEncoder(nn.Module):\n",
        "\n",
        "    def __init__(self):\n",
        "        super(AutoEncoder, self).__init__()\n",
        "\n",
        "        #Encoder part\n",
        "        self.encoder_part = nn.Sequential(\n",
        "            #Conv2d\n",
        "            nn.Conv2d(in_channels=1, out_channels=16, kernel_size=3, bias=True),\n",
        "            nn.ReLU(),\n",
        "            #MaxPooling\n",
        "            nn.MaxPool2d(kernel_size=2, stride=2),\n",
        "            #Conv2d\n",
        "            nn.Conv2d(in_channels=16, out_channels=8, kernel_size=3, bias=True),\n",
        "            nn.ReLU(),\n",
        "        )\n",
        "\n",
        "        #Decoder part\n",
        "        self.decoder_part = nn.Sequential(\n",
        "            #DeConv2d\n",
        "            nn.Conv2d(in_channels=8, out_channels=16, kernel_size=3, padding=2, bias=True),\n",
        "            nn.ReLU(),\n",
        "            #Upsample\n",
        "            nn.Upsample(size=(26,26)),\n",
        "            #Conv2d\n",
        "            nn.Conv2d(in_channels=16, out_channels=1, kernel_size=3, padding=2),\n",
        "        )\n",
        "\n",
        "    def forward(self,x):\n",
        "\n",
        "        #Encoder\n",
        "        x = self.encoder_part(x)\n",
        "        #Decoder\n",
        "        x = self.decoder_part(x)\n",
        "\n",
        "        return x"
      ],
      "metadata": {
        "id": "e2f-Ahri8mQO"
      },
      "execution_count": 16,
      "outputs": []
    },
    {
      "cell_type": "markdown",
      "source": [
        "##Utils"
      ],
      "metadata": {
        "id": "1V3vNaI29BuN"
      }
    },
    {
      "cell_type": "code",
      "source": [
        "import torch\n",
        "import matplotlib.pyplot as plt\n",
        "from torch.autograd import Variable\n",
        "import random"
      ],
      "metadata": {
        "id": "v5WtRgn_9hMP"
      },
      "execution_count": 7,
      "outputs": []
    },
    {
      "cell_type": "code",
      "source": [
        "def saveModel(model, file_path):\n",
        "    \"\"\"\n",
        "        Function to save model's parameters\n",
        "    \"\"\"\n",
        "    torch.save(model.state_dict(), file_path)\n",
        "\n",
        "\n",
        "def loadModel(model, file_path, device):\n",
        "    \"\"\"\n",
        "        Function to load function when only the params have been saved\n",
        "    \"\"\"\n",
        "    params = torch.load(file_path)\n",
        "    model.load_state_dict(params)\n",
        "\n",
        "\n",
        "def checkPoint_model(model, \n",
        "                     optimizer, loss, epoch,\n",
        "                     file_path):\n",
        "    \"\"\"\n",
        "        Function to save model's checkpoints\n",
        "    \"\"\"\n",
        "    \n",
        "    torch.save({'epoch': epoch,\n",
        "                'model_state_dict': model.state_dict(),\n",
        "                'optimizer_state_dict': optimizer.state_dict(),\n",
        "                'loss': loss}, \n",
        "                file_path)\n",
        "\n",
        "def load_checkPoint_model(model, optimizer, file_path, device):\n",
        "\n",
        "    checkpoint = torch.load(file_path)\n",
        "\n",
        "    #Loading\n",
        "    model.load_state_dict(checkpoint['model_state_dict'], map_location=device)\n",
        "    optimizer.load_state_dict(checkpoint['optimizer_state_dict'], map_location=device)\n",
        "    epoch = checkpoint['epoch']\n",
        "    loss = checkpoint['loss']\n",
        "\n",
        "    return epoch, loss\n",
        "\n",
        "def train_epoch(model, optimizer, criterion, \n",
        "                train_loader, \n",
        "                device):\n",
        "\n",
        "    loss = 0.0\n",
        "\n",
        "    for i, (images, labels) in enumerate(train_loader, 0):\n",
        "        \n",
        "            #Data send to device + requires_grad=True\n",
        "            images, labels = Variable(images.to(device)), Variable(labels.to(device))\n",
        "            #Zero the gradient \n",
        "            optimizer.zero_grad()\n",
        "            #Predictions \n",
        "            predicted_images = model(images)\n",
        "            predicted_images.to(device)\n",
        "            #Loss\n",
        "            loss = criterion(predicted_images, images)\n",
        "            #print(\"training loss: \", loss)\n",
        "            #Upgrade the gradients (backpropagate) and the optimizer\n",
        "            loss.backward()\n",
        "            optimizer.step()\n",
        "\n",
        "    return loss\n",
        "\n",
        "\n",
        "def validate_epoch(model, optimizer, criterion, \n",
        "                   test_loader, epoch,\n",
        "                   device):\n",
        "    \n",
        "    losses          = []\n",
        "    loss            = 0.0\n",
        "    accuracy        = 0.0\n",
        "    nof_predictions = 0.0\n",
        "\n",
        "    #Fasten the inference by setting every requires_grad to False\n",
        "    with torch.no_grad():\n",
        "        for data in test_loader:\n",
        "            #Get data and send them to the device\n",
        "            images, _ = data\n",
        "            images    = images.to(device)\n",
        "            #Run the model on the test set\n",
        "            outputs = model(images)\n",
        "            outputs.to(device)\n",
        "            #Compute the loss on the batch\n",
        "            loss = criterion(images, outputs)\n",
        "            #print(\"validation loss: \", loss)\n",
        "            losses.append(loss)\n",
        "    \n",
        "    ###############################\n",
        "    #  Definition of loss ratio r #\n",
        "    ###############################\n",
        "    #\n",
        "    # loss ratio = loss / maximum loss theoritically possible\n",
        "    # \n",
        "    # accuracy = 100*(1 - r)\n",
        "    #\n",
        "    # For further details on the calcul of the accuracy, one may refer to the ReadMe.me file \n",
        "    ###############################\n",
        "\n",
        "    #With nomalization, max is 1 for tensors' values\n",
        "    max_theorical_loss = (2*1)**2\n",
        "    #Number of pixels in each images of dataset is test_loader.dataset[0][0].squeeze().numel()\n",
        "    loss_ratio = sum(losses)/(max_theorical_loss * test_loader.dataset[0][0].squeeze().numel()) \n",
        "    accuracy = 100*(1 - loss_ratio)\n",
        "\n",
        "    return accuracy\n",
        "\n",
        "def train_model(model, train_loader, test_loader, \n",
        "                nof_epochs, optimizer, learning_rate, criterion, \n",
        "                file_path_save_model):\n",
        "    \n",
        "    #Which device + sending model to its memory\n",
        "    device = torch.device(\"cuda:0\" if torch.cuda.is_available() else \"cpu\")\n",
        "    print(\"The model will be running on\", device, \"device\")\n",
        "    model.to(device)\n",
        "\n",
        "    best_accuracy = 0.0\n",
        "\n",
        "    for epoch in range(nof_epochs):\n",
        "\n",
        "        epoch_accuracy = 0.0\n",
        "        epoch_loss     = 0.0\n",
        "\n",
        "        #Training\n",
        "        model.train()\n",
        "        epoch_loss = train_epoch(model, optimizer, criterion, \n",
        "                                 train_loader, \n",
        "                                 device)\n",
        "        \n",
        "        #Validation\n",
        "        model.eval()\n",
        "        epoch_accuracy = validate_epoch(model, optimizer, criterion, \n",
        "                                        test_loader, epoch,\n",
        "                                        device)\n",
        "        \n",
        "        print('Epoch', epoch+1,', accuracy: {:.4f} % \\n'.format(epoch_accuracy))\n",
        "        \n",
        "        #Save model when best accuracy is beaten\n",
        "        if epoch_accuracy > best_accuracy:\n",
        "            #load_checkPoint_model(model, optimizer, file_path_save_model, device)\n",
        "            saveModel(model, file_path_save_model)\n",
        "            best_accuracy = epoch_accuracy\n",
        "\n",
        "    return model\n",
        "\n",
        "\n",
        "def plot_results(model, test_loader,\n",
        "                 device):\n",
        "    \"\"\"\n",
        "    Display few images and outputs to compare them \n",
        "    \"\"\"\n",
        "\n",
        "    fig = plt.figure(figsize=(10,10))\n",
        "\n",
        "    #Display 4*4=16 images\n",
        "    for i in range(int(16/2)):\n",
        "\n",
        "        #Select a random image in the dataset\n",
        "        nof_images = len(test_loader.dataset)\n",
        "        idx = random.randrange(nof_images)\n",
        "        #Inference\n",
        "        image = test_loader.dataset[idx][0].unsqueeze(0).to(device)\n",
        "        with torch.no_grad():\n",
        "            model.eval()\n",
        "            rebuilt_image = model(image)\n",
        "            #print(torch.max(model(image), 1).indices[0].item())\n",
        "        #Sent back the image to the CPU\n",
        "        image = image.squeeze().to('cpu')\n",
        "        rebuilt_image = rebuilt_image.squeeze().to('cpu')\n",
        "\n",
        "        #Plot\n",
        "\n",
        "        ax_image = plt.subplot(4,4, 2*i+1 )\n",
        "        ax_image.set_title(\"Real image\")\n",
        "        plt.imshow(image, cmap='gray_r')\n",
        "        plt.axis('off')\n",
        "\n",
        "        ax_rebuild_image = plt.subplot(4,4, 2*(i+1) )\n",
        "        ax_rebuild_image.set_title(\"Rebuilt image\")\n",
        "        plt.imshow(rebuilt_image, cmap='gray_r')\n",
        "        plt.axis('off')\n",
        "    \n",
        "    fig.suptitle(\"{} on few examples\\n Reached accuracy with 15 epochs: 99.9862%\".format(model.__class__.__name__))\n",
        "\n",
        "    #Save\n",
        "    plt.savefig(str(model.__class__.__name__) + \"_accuraccy_99.9862\" + \".pdf\")\n",
        "\n",
        "    #Show\n",
        "    plt.show()\n",
        "\n"
      ],
      "metadata": {
        "id": "-uVIjBUv9C2G"
      },
      "execution_count": 8,
      "outputs": []
    },
    {
      "cell_type": "markdown",
      "source": [
        "##Main"
      ],
      "metadata": {
        "id": "FgnMrLyU9DY-"
      }
    },
    {
      "cell_type": "code",
      "source": [
        "from torchsummary import summary\n",
        "import torch"
      ],
      "metadata": {
        "id": "Mv-PGSSG9gsM"
      },
      "execution_count": 9,
      "outputs": []
    },
    {
      "cell_type": "code",
      "source": [
        "if __name__==\"__main__\":\n",
        "\n",
        "    device = 'cuda' if torch.cuda.is_available() else 'cpu'\n",
        "\n",
        "    #Instanciation of the model\n",
        "    AE = AutoEncoder()\n",
        "    AE.to(device)\n",
        "    #summary(AE, (1, 28, 28))\n",
        "    #print(\"\\n\")\n",
        "\n",
        "    #Loading the data\n",
        "    transform = transforms.Compose([transforms.CenterCrop(28),\n",
        "                                    transforms.ToTensor(),\n",
        "                                    transforms.Normalize(mean=0.5, std=0.5)\n",
        "                                    ])\n",
        "\n",
        "    #Train dataset\n",
        "    mnist_trainset = datasets.MNIST(root='./data', train=True, download=True, transform=transform)\n",
        "    #Dataloader used to shuffle and create batch\n",
        "    train_loader   = torch.utils.data.DataLoader(mnist_trainset, batch_size=256, shuffle=True)\n",
        "    #Test dataset\n",
        "    mnist_testset = datasets.MNIST(root='./data', train=False, download=True, transform=transform)\n",
        "    test_loader   = torch.utils.data.DataLoader(mnist_testset, batch_size=256, shuffle=True)\n",
        "\n",
        "    #Check data\n",
        "    #print_data_info(train_loader, test_loader)\n",
        "\n",
        "    #Training\n",
        "    model = AE\n",
        "    train_loader = train_loader\n",
        "    test_loader  = test_loader\n",
        "    nof_epochs = 5\n",
        "    learning_rate = 0.001\n",
        "    optimizer = torch.optim.Adam(AE.parameters(), lr = 0.001)\n",
        "    criterion = torch.nn.MSELoss()\n",
        "    file_path_save_model = '/content/checkpoint.pth'\n",
        "\n",
        "    train_model(model, train_loader, test_loader, \n",
        "                nof_epochs, optimizer, learning_rate, criterion, \n",
        "                file_path_save_model)\n",
        "\n",
        "    #Display results\n",
        "    plot_results(AE, test_loader, device)\n"
      ],
      "metadata": {
        "id": "ZG_vKUO19D9S",
        "colab": {
          "base_uri": "https://localhost:8080/",
          "height": 849
        },
        "outputId": "19e3e294-54ee-4725-ae52-01bf3fe4b133"
      },
      "execution_count": 14,
      "outputs": [
        {
          "output_type": "stream",
          "name": "stdout",
          "text": [
            "The model will be running on cuda:0 device\n",
            "Epoch 1 , accuracy: 99.9463 % \n",
            "\n",
            "Epoch 2 , accuracy: 99.9701 % \n",
            "\n",
            "Epoch 3 , accuracy: 99.9763 % \n",
            "\n",
            "Epoch 4 , accuracy: 99.9793 % \n",
            "\n",
            "Epoch 5 , accuracy: 99.9810 % \n",
            "\n"
          ]
        },
        {
          "output_type": "display_data",
          "data": {
            "text/plain": [
              "<Figure size 720x720 with 16 Axes>"
            ],
            "image/png": "[encoded data removed]"
          },
          "metadata": {
            "needs_background": "light"
          }
        }
      ]
    }
  ]
}